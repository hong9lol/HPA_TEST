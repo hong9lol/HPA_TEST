{
 "cells": [
  {
   "cell_type": "code",
   "execution_count": 5,
   "id": "92b30fd9",
   "metadata": {},
   "outputs": [],
   "source": [
    "from os import listdir\n",
    "from os.path import isfile, join"
   ]
  },
  {
   "cell_type": "code",
   "execution_count": 6,
   "id": "cb124b8b",
   "metadata": {},
   "outputs": [],
   "source": [
    "import pandas as pd\n",
    "import numpy as np\n",
    "import matplotlib.pyplot as plt\n",
    "import os\n",
    "\n",
    "root_dir =\"../test/\"\n",
    "log_dir = \"\"\n"
   ]
  },
  {
   "cell_type": "code",
   "execution_count": 7,
   "id": "17bab271",
   "metadata": {},
   "outputs": [],
   "source": [
    "def draw_plt(tcu, start_up_delay, scenario, path, test_dir):    \n",
    "    base = pd.read_table(path, sep=\" \", names=[\"time_ymd\", \"time_hms\", \"requests\", \"pods\"])\n",
    "    base[\"time\"] = np.arange(start=0, stop=len(base.index) * 5, step=5)\n",
    "    # base.head()\n",
    "\n",
    "    df = base.loc[:, [\"requests\", \"pods\", \"time\"]]\n",
    "    # df.head()\n",
    "\n",
    "    ax1 = df.plot(kind=\"line\", drawstyle = \"steps-pre\", x = 'time', y = 'pods', linestyle = '--', figsize=(15,5)) \n",
    "    ax2 = df.plot(kind=\"line\", drawstyle = \"steps-pre\", x = 'time',  y = 'requests', ax=ax1, secondary_y=True, figsize=(15,5)) \n",
    "\n",
    "    title = \"Scenario#\" + scenario + \"(TCU:\" + tcu + \", Start Delay: \" + start_up_delay + \")\"\n",
    "    ax1.set_title(title)\n",
    "    ax1.set_xticks(np.arange(0, 460, 20))\n",
    "    ax1.set_yticks(np.arange(0, 20, 1))\n",
    "    ax2.set_yticks(np.arange(0, 400, 20))\n",
    "    plt.savefig(log_dir + \"/\" + test_dir + \"/Scenario#\" + scenario + \"_\" + tcu + \"_\" + start_up_delay + \".png\")\n",
    "#     plt.show()\n",
    "    plt.cla()   # clear the current axes\n",
    "    plt.clf()   # clear the current figure\n",
    "    plt.close() # closes the current figure\n",
    "\n"
   ]
  },
  {
   "cell_type": "code",
   "execution_count": 8,
   "id": "325933b4",
   "metadata": {
    "scrolled": false
   },
   "outputs": [],
   "source": [
    "tcus = [\"60\", \"80\"]\n",
    "start_up_delays = [\"1\", \"30\", \"60\"]\n",
    "scenarios = [\"1\", \"2\", \"3\"]\n",
    "\n",
    "from IPython.display import clear_output\n",
    "clear_output(wait=True)\n",
    "#%reset -f\n",
    "#import gc\n",
    "#gc.collect()\n",
    "\n",
    "import time\n",
    "#\"../test/80_1_scenario#1.txt\"\n",
    "log_dir = \"log_kubelet_freq_4\"\n",
    "os.system(\"mkdir \" + log_dir)\n",
    "test_dir_list = [f for f in listdir(root_dir + log_dir) if os.path.isdir(os.path.join(root_dir + log_dir, f))]\n",
    "for test_dir in test_dir_list:\n",
    "    os.system(\"mkdir \" + log_dir + \"/\" + test_dir)\n",
    "    for tcu in tcus:\n",
    "        for start_up_delay in start_up_delays:\n",
    "            for scenario in scenarios:\n",
    "                path = root_dir + log_dir + \"/\" + test_dir + \"/\" + str(tcu) + \"_\" + str(start_up_delay) + \"_scenario#\" + scenario + \".txt\"\n",
    "                draw_plt(tcu, start_up_delay, scenario, path, test_dir)\n",
    "                time.sleep(1)\n"
   ]
  },
  {
   "cell_type": "code",
   "execution_count": null,
   "id": "5198fae6",
   "metadata": {},
   "outputs": [],
   "source": []
  },
  {
   "cell_type": "code",
   "execution_count": null,
   "id": "8a0913c3",
   "metadata": {},
   "outputs": [],
   "source": []
  }
 ],
 "metadata": {
  "kernelspec": {
   "display_name": "Python 3 (ipykernel)",
   "language": "python",
   "name": "python3"
  },
  "language_info": {
   "codemirror_mode": {
    "name": "ipython",
    "version": 3
   },
   "file_extension": ".py",
   "mimetype": "text/x-python",
   "name": "python",
   "nbconvert_exporter": "python",
   "pygments_lexer": "ipython3",
   "version": "3.9.13"
  }
 },
 "nbformat": 4,
 "nbformat_minor": 5
}
