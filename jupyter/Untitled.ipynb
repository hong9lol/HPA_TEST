{
 "cells": [
  {
   "cell_type": "code",
   "execution_count": 6,
   "id": "f7b90478",
   "metadata": {
    "scrolled": true
   },
   "outputs": [
    {
     "name": "stdout",
     "output_type": "stream",
     "text": [
      "60_1_1: 0.23\n",
      "60_1_2: 2.13\n",
      "60_1_3: 4.44\n",
      "60_30_1: 0.19\n",
      "60_30_2: 4.22\n",
      "60_30_3: 2.3\n",
      "60_60_1: 1.5\n",
      "60_60_2: 3.01\n",
      "60_60_3: 9.38\n",
      "80_1_1: 0.5\n",
      "80_1_2: 3.27\n",
      "80_1_3: 3.51\n",
      "80_30_1: 0.74\n",
      "80_30_2: 6.35\n",
      "80_30_3: 4.72\n",
      "80_60_1: 1.0\n",
      "80_60_2: 3.44\n",
      "80_60_3: 6.54\n"
     ]
    }
   ],
   "source": [
    "import math\n",
    "TC_keys = [[10, 20, 30, 40, 50, 60, 70, 80, 90, 100, 110,\n",
    "        100, 90, 80, 70, 60, 50, 40, 30, 20, 10, 10,],\n",
    "    [10, 20, 20, 20, 20, 20, 60, 100, 140, 180, 220,\n",
    "        180, 140, 100, 60, 20, 20, 20, 20, 20, 10, 10,],\n",
    "    [10, 10, 100, 100, 10, 10, 100, 100, 10, 10, 100,\n",
    "        100, 10, 10, 100, 100, 10, 10, 100, 100, 10, 10,]]\n",
    " \n",
    "for i, TC_key in enumerate(TC_keys):\n",
    "    for j, key in enumerate(TC_key):\n",
    "        TC_keys[i][j] = (math.ceil(key/20) * 20 * 20)\n",
    "\n",
    "path = \"../test/log_kubelet_freq_4/c2/hey.log\"\n",
    "raw_data = open(path)\n",
    "result_list = []\n",
    "each_result = []\n",
    "flag = False\n",
    "\n",
    "for data in raw_data.readlines():\n",
    "    if flag:\n",
    "        if data == \"\\n\":\n",
    "            result_list.append(\"0\")\n",
    "        else:\n",
    "            result_list.append(data.split(\"\\t\")[1].split(\" \")[0])\n",
    "        flag = False\n",
    "        continue\n",
    "    if data == \"Status code distribution:\\n\":\n",
    "        flag = True\n",
    "\n",
    "#print(result)\n",
    "# print(len(result_list)/18)\n",
    "test_count = int(len(result_list)/18)\n",
    "n = 0\n",
    "for i in range(0, 18):\n",
    "    each_result.append(result_list[n:n+test_count])\n",
    "    n = n + test_count\n",
    "\n",
    "# print(each_result)\n",
    "\n",
    "tc_num = 0\n",
    "fail_rate_list = []\n",
    "for result in each_result:\n",
    "    _sum = 0\n",
    "    for i, r in enumerate(result):\n",
    "        _sum += TC_keys[tc_num][i] - int(r)\n",
    "    tc_num += 1\n",
    "    if tc_num >= 3:\n",
    "        tc_num = 0\n",
    "    \n",
    "    total = sum(TC_keys[tc_num])\n",
    "    fail_rate_list.append(round((_sum/total)*100, 2))\n",
    "        \n",
    "# print(fail_rate_list)\n",
    "\n",
    "tcus = [\"60\", \"80\"]\n",
    "start_ups = [\"1\",\"30\",\"60\"]\n",
    "scenarios = [\"1\",\"2\",\"3\"]\n",
    "\n",
    "cnt = 0\n",
    "for tcu in tcus:\n",
    "    for start_up in start_ups:\n",
    "        for scenario in scenarios:\n",
    "            print(tcu + \"_\" + start_up + \"_\" + scenario + \": \" + str(fail_rate_list[cnt]))\n",
    "            cnt += 1\n",
    "\n",
    "\n",
    "raw_data.close()"
   ]
  },
  {
   "cell_type": "code",
   "execution_count": null,
   "id": "ef309249",
   "metadata": {},
   "outputs": [],
   "source": []
  }
 ],
 "metadata": {
  "kernelspec": {
   "display_name": "Python 3 (ipykernel)",
   "language": "python",
   "name": "python3"
  },
  "language_info": {
   "codemirror_mode": {
    "name": "ipython",
    "version": 3
   },
   "file_extension": ".py",
   "mimetype": "text/x-python",
   "name": "python",
   "nbconvert_exporter": "python",
   "pygments_lexer": "ipython3",
   "version": "3.9.13"
  }
 },
 "nbformat": 4,
 "nbformat_minor": 5
}
